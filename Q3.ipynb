{
 "cells": [
  {
   "cell_type": "code",
   "execution_count": 2,
   "source": [
    "from the_quiver import *\r\n",
    "\r\n",
    "# Q3 - solve system of linear equations\r\n",
    "\r\n",
    "M = readtxt('matx2.txt')\r\n",
    "# Name: Wilson James Aidan Eric\r\n",
    "# Roll No: 1911193\r\n",
    "print(\"The solutions are: \", Doolittle_Sol(M))"
   ],
   "outputs": [
    {
     "output_type": "stream",
     "name": "stdout",
     "text": [
      "The solutions are:  [[3.0], [4.0], [-6.0], [-1.0]]\n"
     ]
    }
   ],
   "metadata": {}
  }
 ],
 "metadata": {
  "orig_nbformat": 4,
  "language_info": {
   "name": "python",
   "version": "3.7.4",
   "mimetype": "text/x-python",
   "codemirror_mode": {
    "name": "ipython",
    "version": 3
   },
   "pygments_lexer": "ipython3",
   "nbconvert_exporter": "python",
   "file_extension": ".py"
  },
  "kernelspec": {
   "name": "python3",
   "display_name": "Python 3.7.4 32-bit"
  },
  "interpreter": {
   "hash": "a10fe58052d53de2f628fe753df202ab061ed00aa63930584c0feb86b9c4bc70"
  }
 },
 "nbformat": 4,
 "nbformat_minor": 2
}